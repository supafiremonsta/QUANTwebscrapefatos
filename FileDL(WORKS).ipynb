{
 "cells": [
  {
   "cell_type": "code",
   "execution_count": null,
   "id": "13613e3a",
   "metadata": {},
   "outputs": [],
   "source": []
  },
  {
   "cell_type": "code",
   "execution_count": 95,
   "id": "360a45ec",
   "metadata": {},
   "outputs": [
    {
     "name": "stderr",
     "output_type": "stream",
     "text": [
      "The chromedriver version (124.0.6367.207) detected in PATH at /opt/homebrew/bin/chromedriver might not be compatible with the detected chrome version (125.0.6422.77); currently, chromedriver 125.0.6422.78 is recommended for chrome 125.*, so it is advised to delete the driver in PATH and retry\n"
     ]
    },
    {
     "ename": "NoSuchWindowException",
     "evalue": "Message: no such window: target window already closed\nfrom unknown error: web view not found\n  (Session info: chrome=125.0.6422.77)\nStacktrace:\n0   chromedriver                        0x0000000104536940 chromedriver + 4368704\n1   chromedriver                        0x000000010452edd4 chromedriver + 4337108\n2   chromedriver                        0x0000000104152c04 chromedriver + 289796\n3   chromedriver                        0x000000010412d918 chromedriver + 137496\n4   chromedriver                        0x00000001041b9ab8 chromedriver + 711352\n5   chromedriver                        0x00000001041ccd08 chromedriver + 789768\n6   chromedriver                        0x0000000104189ab4 chromedriver + 514740\n7   chromedriver                        0x000000010418a50c chromedriver + 517388\n8   chromedriver                        0x00000001044fae5c chromedriver + 4124252\n9   chromedriver                        0x00000001044ffc4c chromedriver + 4144204\n10  chromedriver                        0x00000001044e0824 chromedriver + 4016164\n11  chromedriver                        0x000000010450057c chromedriver + 4146556\n12  chromedriver                        0x00000001044d22d8 chromedriver + 3957464\n13  chromedriver                        0x000000010451fec4 chromedriver + 4275908\n14  chromedriver                        0x0000000104520040 chromedriver + 4276288\n15  chromedriver                        0x000000010452ea34 chromedriver + 4336180\n16  libsystem_pthread.dylib             0x000000018895d06c _pthread_start + 148\n17  libsystem_pthread.dylib             0x0000000188957e2c thread_start + 8\n",
     "output_type": "error",
     "traceback": [
      "\u001b[0;31m---------------------------------------------------------------------------\u001b[0m",
      "\u001b[0;31mNoSuchWindowException\u001b[0m                     Traceback (most recent call last)",
      "Cell \u001b[0;32mIn[95], line 54\u001b[0m\n\u001b[1;32m     51\u001b[0m     download\u001b[38;5;241m.\u001b[39mclick()\n\u001b[1;32m     52\u001b[0m     time\u001b[38;5;241m.\u001b[39msleep(\u001b[38;5;241m10\u001b[39m)\n\u001b[0;32m---> 54\u001b[0m     results \u001b[38;5;241m=\u001b[39m driver\u001b[38;5;241m.\u001b[39mfind_element(By\u001b[38;5;241m.\u001b[39mID, \u001b[38;5;124m'\u001b[39m\u001b[38;5;124mgrdDocumentos\u001b[39m\u001b[38;5;124m'\u001b[39m)\n\u001b[1;32m     55\u001b[0m     \u001b[38;5;28mprint\u001b[39m(results\u001b[38;5;241m.\u001b[39mtext)\n\u001b[1;32m     58\u001b[0m \u001b[38;5;28;01mfinally\u001b[39;00m:\n",
      "File \u001b[0;32m/opt/anaconda3/lib/python3.11/site-packages/selenium/webdriver/remote/webdriver.py:741\u001b[0m, in \u001b[0;36mWebDriver.find_element\u001b[0;34m(self, by, value)\u001b[0m\n\u001b[1;32m    738\u001b[0m     by \u001b[38;5;241m=\u001b[39m By\u001b[38;5;241m.\u001b[39mCSS_SELECTOR\n\u001b[1;32m    739\u001b[0m     value \u001b[38;5;241m=\u001b[39m \u001b[38;5;124mf\u001b[39m\u001b[38;5;124m'\u001b[39m\u001b[38;5;124m[name=\u001b[39m\u001b[38;5;124m\"\u001b[39m\u001b[38;5;132;01m{\u001b[39;00mvalue\u001b[38;5;132;01m}\u001b[39;00m\u001b[38;5;124m\"\u001b[39m\u001b[38;5;124m]\u001b[39m\u001b[38;5;124m'\u001b[39m\n\u001b[0;32m--> 741\u001b[0m \u001b[38;5;28;01mreturn\u001b[39;00m \u001b[38;5;28mself\u001b[39m\u001b[38;5;241m.\u001b[39mexecute(Command\u001b[38;5;241m.\u001b[39mFIND_ELEMENT, {\u001b[38;5;124m\"\u001b[39m\u001b[38;5;124musing\u001b[39m\u001b[38;5;124m\"\u001b[39m: by, \u001b[38;5;124m\"\u001b[39m\u001b[38;5;124mvalue\u001b[39m\u001b[38;5;124m\"\u001b[39m: value})[\u001b[38;5;124m\"\u001b[39m\u001b[38;5;124mvalue\u001b[39m\u001b[38;5;124m\"\u001b[39m]\n",
      "File \u001b[0;32m/opt/anaconda3/lib/python3.11/site-packages/selenium/webdriver/remote/webdriver.py:347\u001b[0m, in \u001b[0;36mWebDriver.execute\u001b[0;34m(self, driver_command, params)\u001b[0m\n\u001b[1;32m    345\u001b[0m response \u001b[38;5;241m=\u001b[39m \u001b[38;5;28mself\u001b[39m\u001b[38;5;241m.\u001b[39mcommand_executor\u001b[38;5;241m.\u001b[39mexecute(driver_command, params)\n\u001b[1;32m    346\u001b[0m \u001b[38;5;28;01mif\u001b[39;00m response:\n\u001b[0;32m--> 347\u001b[0m     \u001b[38;5;28mself\u001b[39m\u001b[38;5;241m.\u001b[39merror_handler\u001b[38;5;241m.\u001b[39mcheck_response(response)\n\u001b[1;32m    348\u001b[0m     response[\u001b[38;5;124m\"\u001b[39m\u001b[38;5;124mvalue\u001b[39m\u001b[38;5;124m\"\u001b[39m] \u001b[38;5;241m=\u001b[39m \u001b[38;5;28mself\u001b[39m\u001b[38;5;241m.\u001b[39m_unwrap_value(response\u001b[38;5;241m.\u001b[39mget(\u001b[38;5;124m\"\u001b[39m\u001b[38;5;124mvalue\u001b[39m\u001b[38;5;124m\"\u001b[39m, \u001b[38;5;28;01mNone\u001b[39;00m))\n\u001b[1;32m    349\u001b[0m     \u001b[38;5;28;01mreturn\u001b[39;00m response\n",
      "File \u001b[0;32m/opt/anaconda3/lib/python3.11/site-packages/selenium/webdriver/remote/errorhandler.py:229\u001b[0m, in \u001b[0;36mErrorHandler.check_response\u001b[0;34m(self, response)\u001b[0m\n\u001b[1;32m    227\u001b[0m         alert_text \u001b[38;5;241m=\u001b[39m value[\u001b[38;5;124m\"\u001b[39m\u001b[38;5;124malert\u001b[39m\u001b[38;5;124m\"\u001b[39m]\u001b[38;5;241m.\u001b[39mget(\u001b[38;5;124m\"\u001b[39m\u001b[38;5;124mtext\u001b[39m\u001b[38;5;124m\"\u001b[39m)\n\u001b[1;32m    228\u001b[0m     \u001b[38;5;28;01mraise\u001b[39;00m exception_class(message, screen, stacktrace, alert_text)  \u001b[38;5;66;03m# type: ignore[call-arg]  # mypy is not smart enough here\u001b[39;00m\n\u001b[0;32m--> 229\u001b[0m \u001b[38;5;28;01mraise\u001b[39;00m exception_class(message, screen, stacktrace)\n",
      "\u001b[0;31mNoSuchWindowException\u001b[0m: Message: no such window: target window already closed\nfrom unknown error: web view not found\n  (Session info: chrome=125.0.6422.77)\nStacktrace:\n0   chromedriver                        0x0000000104536940 chromedriver + 4368704\n1   chromedriver                        0x000000010452edd4 chromedriver + 4337108\n2   chromedriver                        0x0000000104152c04 chromedriver + 289796\n3   chromedriver                        0x000000010412d918 chromedriver + 137496\n4   chromedriver                        0x00000001041b9ab8 chromedriver + 711352\n5   chromedriver                        0x00000001041ccd08 chromedriver + 789768\n6   chromedriver                        0x0000000104189ab4 chromedriver + 514740\n7   chromedriver                        0x000000010418a50c chromedriver + 517388\n8   chromedriver                        0x00000001044fae5c chromedriver + 4124252\n9   chromedriver                        0x00000001044ffc4c chromedriver + 4144204\n10  chromedriver                        0x00000001044e0824 chromedriver + 4016164\n11  chromedriver                        0x000000010450057c chromedriver + 4146556\n12  chromedriver                        0x00000001044d22d8 chromedriver + 3957464\n13  chromedriver                        0x000000010451fec4 chromedriver + 4275908\n14  chromedriver                        0x0000000104520040 chromedriver + 4276288\n15  chromedriver                        0x000000010452ea34 chromedriver + 4336180\n16  libsystem_pthread.dylib             0x000000018895d06c _pthread_start + 148\n17  libsystem_pthread.dylib             0x0000000188957e2c thread_start + 8\n"
     ]
    }
   ],
   "source": [
    "from selenium import webdriver\n",
    "from selenium.webdriver.common.by import By\n",
    "from selenium.webdriver.support.ui import WebDriverWait\n",
    "from selenium.webdriver.support import expected_conditions as EC\n",
    "from selenium.webdriver.support.ui import Select\n",
    "from webdriver_manager.chrome import ChromeDriverManager\n",
    "from selenium.webdriver.common.action_chains import ActionChains\n",
    "import time\n",
    "from selenium.webdriver.common.keys import Keys\n",
    "\n",
    "from bs4 import BeautifulSoup\n",
    "from requests import get\n",
    "\n",
    "driver = webdriver.Chrome()\n",
    "\n",
    "#options = webdriver.ChromeOptions() ;\n",
    "#prefs = {\"download.default_directory\" : \"C:\\Tutorial\\down\"};\n",
    "#options.add_experimental_option(\"prefs\",prefs);\n",
    "\n",
    "try:\n",
    "    \n",
    "    driver.get('https://www.rad.cvm.gov.br/ENET/frmConsultaExternaCVM.aspx')\n",
    "    WebDriverWait(driver, 10).until(EC.presence_of_element_located((By.ID, 'cboCategorias')))\n",
    "\n",
    "    \n",
    "    dropdown = driver.find_element(By.XPATH, '/html/body/form[1]/div[3]/div/fieldset/div[5]/div[1]/div[1]/div/a')\n",
    "    dropdown.click()\n",
    "\n",
    "    categoria_dropdown = Select(driver.find_element(By.ID, 'cboCategorias'))\n",
    "    actions = ActionChains(driver)\n",
    "    actions.move_to_element(dropdown).click().perform()\n",
    "    \n",
    "    time.sleep(3)\n",
    "    \n",
    "    search = driver.find_element(\"xpath\",'/html/body/form[1]/div[3]/div/fieldset/div[5]/div[1]/div[1]/div/div/div/input')\n",
    "    search.send_keys(\"Fato Relevante\")\n",
    "    search.send_keys(Keys.ENTER)    \n",
    "    \n",
    "    #Seleciona a data para semana\n",
    "    #data_entrega_dropdown = Select(driver.find_element(By.ID, 'cboEntrega'))\n",
    "    #data_entrega_dropdown.select_by_visible_text('Na semana')\n",
    "    #semanal = driver.find_element(By.XPATH, '/html/body/form[1]/div[3]/div/fieldset/div[4]/div[1]/div[1]/div[2]/input')\n",
    "    #semanal.click()\n",
    "    \n",
    "    submit_button = driver.find_element(By.ID, 'btnConsulta')\n",
    "    submit_button.click()\n",
    "    time.sleep(10)\n",
    "    WebDriverWait(driver, 10).until(EC.presence_of_element_located((By.ID, 'grdDocumentos')))\n",
    "\n",
    "    download = driver.find_element(By.CLASS_NAME,\"fi-download\")\n",
    "    download.click()\n",
    "    time.sleep(10)\n",
    "    \n",
    "    results = driver.find_element(By.ID, 'grdDocumentos')\n",
    "    print(results.text)\n",
    "    \n",
    "    \n",
    "finally:\n",
    "    driver.quit()"
   ]
  },
  {
   "cell_type": "code",
   "execution_count": null,
   "id": "8bd1feba",
   "metadata": {},
   "outputs": [],
   "source": []
  },
  {
   "cell_type": "code",
   "execution_count": null,
   "id": "1eac2848",
   "metadata": {},
   "outputs": [],
   "source": []
  }
 ],
 "metadata": {
  "kernelspec": {
   "display_name": "Python 3 (ipykernel)",
   "language": "python",
   "name": "python3"
  },
  "language_info": {
   "codemirror_mode": {
    "name": "ipython",
    "version": 3
   },
   "file_extension": ".py",
   "mimetype": "text/x-python",
   "name": "python",
   "nbconvert_exporter": "python",
   "pygments_lexer": "ipython3",
   "version": "3.11.7"
  }
 },
 "nbformat": 4,
 "nbformat_minor": 5
}
